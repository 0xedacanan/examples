{
 "cells": [
  {
   "cell_type": "markdown",
   "id": "8f8939f9",
   "metadata": {},
   "source": [
    "# Analyzing Podcasts\n",
    "\n",
    "What does a great podcast sound like?\n",
    "\n",
    "One of the many criteria is active engagements: fast exchange of speakers, creative discussions, and not minute-long, tedious talks.\n",
    "\n",
    "Imagine you are a podcast creator and just finished a podcast with guests. How well did I do? Wouldn't it be nice to pump the podcast audio to an AI model, and the AI model, plus some data science magic, gives a visual representation of how things go? Are guests interacting in a meaningful way? Am I distributing time right? You might want to find these out quickly.\n",
    "\n",
    "With the WhisperX model running on Lepton, it is easy to build applications to understand such problems easily. With each color meaning a different speaker, each row being a minute, which of the following two podcasts is more engaging, and plausibly higher quality?\n",
    "\n",
    "<img src=\"assets/positive_example.png\" width=300/><img src=\"assets/negative_example.png\" width=230/>\n",
    "\n",
    "Let's learn from positive examples by looking at one of my favorite podcast episodes, from 99 Percent Invisible. We'll use the speech recognition model Whisper + speaker diarization algorithm to do voice recognition, produce transcripts, and produce the conversation visualization like above.\n",
    "\n",
    "Disclaimer: This is only an illustrative example of how voice recognition and speaker diarization work. The copyright of the episode belongs to the original authors."
   ]
  },
  {
   "cell_type": "code",
   "execution_count": 1,
   "id": "9e97e79b",
   "metadata": {},
   "outputs": [],
   "source": [
    "# First, let's download to the current folder.\n",
    "! wget https://99percentinvisible.org/episode/stuccoed-in-time/download --quiet -O stuccoed_in_time.mp3"
   ]
  },
  {
   "cell_type": "markdown",
   "id": "f7532016",
   "metadata": {},
   "source": [
    "Now, we will use the whisperx example in this folder to do the work. Let's assume that you already have a lepton account and have logged in (if not, do `lep login` in your favorite commandline interface). Let's first start the whisperx model. For this, we will need a reasonably powerful gpu, like a T4."
   ]
  },
  {
   "cell_type": "code",
   "execution_count": 2,
   "id": "be9071b6",
   "metadata": {},
   "outputs": [
    {
     "name": "stdout",
     "output_type": "stream",
     "text": [
      "Photon \u001b[32mwhisperx\u001b[0m created.\n",
      "Photon \u001b[32mwhisperx\u001b[0m pushed to workspace.\n",
      "Secret created successfully: \u001b[32mHUGGING_FACE_HUB_TOKEN\u001b[0m.\n",
      "Running the most recent version of \u001b[32mwhisperx\u001b[0m: whisperx-ra5b54qt\n",
      "Photon launched as \u001b[32mwhisperx\u001b[0m. Use `lep deployment status -n whisperx` to check \n",
      "the status.\n"
     ]
    }
   ],
   "source": [
    "# Remember to replace the token with your own!\n",
    "!lep photon create -n whisperx -m whisperx_background_job.py\n",
    "!lep photon push -n whisperx\n",
    "!lep secret create -n HUGGING_FACE_HUB_TOKEN -v hf_xxxxxxxxxxxxxxxxxxxxxxxxxxxxxxx\n",
    "!lep photon run -n whisperx -dn whisperx --resource-shape gpu.t4 --secret HUGGING_FACE_HUB_TOKEN"
   ]
  },
  {
   "cell_type": "markdown",
   "id": "5006e9ce",
   "metadata": {},
   "source": [
    "Let's check if the deployment has started. We can use the CLI to do so. Run this a few times till the status shows \"Running\". You can also use the Web UI url to do so."
   ]
  },
  {
   "cell_type": "code",
   "execution_count": 3,
   "id": "13d65ff6",
   "metadata": {},
   "outputs": [
    {
     "name": "stdout",
     "output_type": "stream",
     "text": [
      "Created at: 2023-08-21 23:41:01\n",
      "Photon ID:  whisperx-ra5b54qt\n",
      "State:      \u001b[32mRunning\u001b[0m\n",
      "Web UI:     \n",
      "https://dashboard.lepton.ai/workspace/stable/deployments/detail/whisperx/demo\n",
      "Is Public:  No\n",
      "Replicas List:\n",
      "┏━━━━━━━━━━━━━━━━━━━━━━━━━━━┳━━━━━━━━┳━━━━━━━━━┓\n",
      "┃\u001b[1m \u001b[0m\u001b[1mreplica id               \u001b[0m\u001b[1m \u001b[0m┃\u001b[1m \u001b[0m\u001b[1mstatus\u001b[0m\u001b[1m \u001b[0m┃\u001b[1m \u001b[0m\u001b[1mmessage\u001b[0m\u001b[1m \u001b[0m┃\n",
      "┡━━━━━━━━━━━━━━━━━━━━━━━━━━━╇━━━━━━━━╇━━━━━━━━━┩\n",
      "│ whisperx-6c9c5f786c-ppjcl │ \u001b[32mReady\u001b[0m  │ (empty) │\n",
      "└───────────────────────────┴────────┴─────────┘\n",
      "\u001b[32m1\u001b[0m out of 1 replicas ready.\n"
     ]
    }
   ],
   "source": [
    "!lep deployment status -n whisperx"
   ]
  },
  {
   "cell_type": "markdown",
   "id": "0a75a88e",
   "metadata": {},
   "source": [
    "Now that the remote service has started, let's run our local data analytics. You don't need to have a beefy GPU - that is the beautiful part. The GPU lives in the cloud.\n",
    "\n",
    "Let's first inspect the main function that we are going to use - `run_upload` - that uploads our audio file to the cloud and processes the work."
   ]
  },
  {
   "cell_type": "code",
   "execution_count": 4,
   "id": "6e600086",
   "metadata": {},
   "outputs": [
    {
     "name": "stdout",
     "output_type": "stream",
     "text": [
      "Exposed paths from the client are:\n",
      "['/run', '/run_upload', '/status', '/get_result', '/queue_length']\n",
      "Documentation for run_upload is:\n",
      "Help on function run_upload in module leptonai.client:\n",
      "\n",
      "run_upload(*args, **kwargs)\n",
      "    Runs transcription, alignment, and diarization for the input.\n",
      "    \n",
      "    Everything is the same as the `/run` path, except that the input is uploaded\n",
      "    as a file. If you are using the lepton python client, you can achieve so by\n",
      "        from leptonai.photon import FileParam\n",
      "        from leptonai.client import Client\n",
      "        client = Client(PUT_YOUR_SERVER_INFO_HERE)\n",
      "        client.run_upload(upload_file=FileParam(open(\"path/to/your/file.wav\", \"rb\")))\n",
      "    \n",
      "    For more details, refer to `/run`.\n",
      "    \n",
      "    Automatically inferred parameters from openapi:\n",
      "    \n",
      "    Input Schema (*=required):\n",
      "      upload_file*: Any\n",
      "      batch_size: int (default: 4)\n",
      "      min_speakers: (int | None)\n",
      "      max_speakers: (int | None)\n",
      "    \n",
      "    Example input:\n",
      "      upload_file: (please use python) FileParam(open('path/to/your/file.wav', 'rb'))\n",
      "    \n",
      "    \n",
      "    Output Schema:\n",
      "      output: object\n",
      "\n"
     ]
    }
   ],
   "source": [
    "from leptonai.client import Client\n",
    "from leptonai.photon import FileParam\n",
    "\n",
    "# Remember to replace the workspace id and token to your own!\n",
    "c = Client(\"stable\", \"whisperx\", token=\"xxxxxxxxxxxxxxxxxxxxxxxxxxxxxx\")\n",
    "print(\"Exposed paths from the client are:\")\n",
    "print(list(c.paths()))\n",
    "print(\"Documentation for run_upload is:\")\n",
    "help(c.run_upload)"
   ]
  },
  {
   "cell_type": "code",
   "execution_count": 5,
   "id": "04edf9c3",
   "metadata": {},
   "outputs": [],
   "source": [
    "# Let's run the task, and then I'll explain.\n",
    "task_id = c.run_upload(upload_file=FileParam(open(\"stuccoed_in_time.mp3\", \"rb\")))"
   ]
  },
  {
   "cell_type": "markdown",
   "id": "ad559a1e-9e67-4ff8-bb72-6356a5bcbf40",
   "metadata": {},
   "source": [
    "Basically, when we are running large recognition tasks, because it will wait for quite some time to finish, it's better to not have the underlying http service long-waiting - which blocks - and it's better to finish the file upload, return a task id, and then the client side can regularly check back to see if the task finished. This is exactly how our WhisperX background-task mode server is build. You can refer to the code for more details.\n",
    "\n",
    "Let's inspect the task id, which is a simple UUID:"
   ]
  },
  {
   "cell_type": "code",
   "execution_count": 6,
   "id": "19951c30-9d5d-485b-bae6-5e32b42cba11",
   "metadata": {},
   "outputs": [
    {
     "name": "stdout",
     "output_type": "stream",
     "text": [
      "{'task_id': '41ba293e-a1cf-46d7-86b3-89aeabc884c4'}\n"
     ]
    }
   ],
   "source": [
    "print(task_id)"
   ]
  },
  {
   "cell_type": "markdown",
   "id": "9e02fd8f-7fcf-4072-837a-424b8fc3680a",
   "metadata": {},
   "source": [
    "Let's implement a simple waiting strategy: call `status`, and if the status is not ready, wait for progressively long time until the status says \"OK\"."
   ]
  },
  {
   "cell_type": "code",
   "execution_count": 7,
   "id": "8292c64e",
   "metadata": {},
   "outputs": [
    {
     "name": "stdout",
     "output_type": "stream",
     "text": [
      "{'status': 'ok'}\n"
     ]
    }
   ],
   "source": [
    "import time\n",
    "\n",
    "wait_time = 1 # in seconds\n",
    "while c.status(**task_id)['status'] != \"ok\":\n",
    "    time.sleep(wait_time)\n",
    "    wait_time *= 2\n",
    "    if wait_time > 60 * 20:\n",
    "        # If the wait time is larger than 20 minutes, something is wrong.\n",
    "        print(\"Hmm. Something is wrong.\")\n",
    "        break\n",
    "else:\n",
    "    print(c.status(**task_id))\n",
    "    result = c.get_result(**task_id)"
   ]
  },
  {
   "cell_type": "markdown",
   "id": "dff8b3c1-5fbd-4c1e-99c6-bc65d3205480",
   "metadata": {},
   "source": [
    "It's a near hour long audio, patience is a virtue, but we'll get the results."
   ]
  },
  {
   "cell_type": "code",
   "execution_count": 8,
   "id": "7e4d855b",
   "metadata": {},
   "outputs": [
    {
     "name": "stdout",
     "output_type": "stream",
     "text": [
      "Number of speakers: 12\n"
     ]
    }
   ],
   "source": [
    "num_speakers = len(set([r[\"speaker\"] for r in result]))\n",
    "print(f\"Number of speakers: {num_speakers}\")"
   ]
  },
  {
   "cell_type": "markdown",
   "id": "a17bf852-19b3-4bd9-b82c-aff82fb6bb31",
   "metadata": {},
   "source": [
    "Let's print the conversations to take a look."
   ]
  },
  {
   "cell_type": "code",
   "execution_count": 9,
   "id": "4d5a45ad",
   "metadata": {},
   "outputs": [
    {
     "name": "stdout",
     "output_type": "stream",
     "text": [
      "SPEAKER_03 (0'0\"-0'2\"): This is 99% Invisible.\n",
      "SPEAKER_03 (0'2\"-0'5\"): I'm Roman Mars.\n",
      "SPEAKER_03 (0'5\"-0'18\"): Back in the early 2000s, an architect named Trey Jordan wrote a letter to Santa Fe, New Mexico's Historic Preservation Division, laying out the details of a house he was hoping to build in the city's historic district.\n",
      "SPEAKER_03 (0'18\"-0'20\"): The process started out pretty normal.\n",
      "SPEAKER_02 (0'20\"-0'24\"): We were just not ready for what happened.\n",
      "SPEAKER_02 (0'24\"-0'28\"): I mean, I don't remember the process being that thorny.\n",
      "SPEAKER_03 (0'28\"-0'35\"): The first indication that things maybe wouldn't go smoothly had to do with the color of the stucco that Trey wanted to use.\n",
      "SPEAKER_02 (0'35\"-0'37\"): I do recall that in my proposal letter,\n",
      "SPEAKER_02 (0'38\"-0'51\"): I had mentioned that the stucco color would be a custom color similar to, I think it was cottonwood, which is its standard color of a commercially available stucco.\n",
      "SPEAKER_07 (0'51\"-0'59\"): Buildings in the Historic District have to follow a number of design guidelines so that they fit in with Santa Fe's traditional Adobe look.\n",
      "SPEAKER_03 (0'59\"-1'0\"): Senior producer Delaney Hall.\n",
      "... (notebook writer's note: more content hidden) ...\n",
      "SPEAKER_03 (43'7\"-43'12\"): We are a member of Radiotopia from PRX, a collective of the best, most innovative shows in all of podcasting.\n",
      "SPEAKER_03 (43'12\"-43'16\"): Discover, listen, and support them all at radiotopia.fm.\n",
      "SPEAKER_03 (43'16\"-43'19\"): You can find the show and join discussions about the show on Facebook.\n",
      "SPEAKER_03 (43'19\"-43'22\"): You can tweet me at Roman Mars and the show at 99pi.org.\n",
      "SPEAKER_03 (43'22\"-43'25\"): We're on Instagram and Reddit too.\n",
      "SPEAKER_03 (43'25\"-43'26\"): You like pictures of buildings made of mud?\n",
      "SPEAKER_03 (43'26\"-43'27\"): Well, I certainly do.\n",
      "SPEAKER_03 (43'27\"-43'29\"): And we got a bunch of them at 99pi.org.\n",
      "SPEAKER_11 (43'40\"-43'44\"): Radiotopia from PRX.\n"
     ]
    }
   ],
   "source": [
    "def format_seconds(seconds):\n",
    "    minutes = int(seconds // 60)\n",
    "    seconds_remainder = int(seconds % 60)\n",
    "    formatted_time = f\"{minutes}'{seconds_remainder}\\\"\"\n",
    "    return formatted_time\n",
    "\n",
    "for r in result:\n",
    "    start = format_seconds(r['start'])\n",
    "    end = format_seconds(r['end'])\n",
    "    print(f\"{r['speaker']} ({start}-{end}): {r['text'].strip()}\")"
   ]
  },
  {
   "cell_type": "code",
   "execution_count": 11,
   "id": "9b598a6c-dd2b-4d40-a2ef-b2a514d98680",
   "metadata": {},
   "outputs": [
    {
     "name": "stdout",
     "output_type": "stream",
     "text": [
      "Number of classified speakers: 12\n"
     ]
    }
   ],
   "source": [
    "speakers = set([r[\"speaker\"] for r in result])\n",
    "print(f\"Number of classified speakers: {len(speakers)}\")"
   ]
  },
  {
   "cell_type": "markdown",
   "id": "4c6ba36f-a07a-4e24-9a36-bb40afc7b127",
   "metadata": {},
   "source": [
    "Of course, the model doesn't take care of the physical names of the speakers - we can possibly put this into an LLM to ground the speakers to the names mentioned in the text, but that's story for another day. During this demo, we have manually looked and identified the following speaker names:"
   ]
  },
  {
   "cell_type": "code",
   "execution_count": 12,
   "id": "c0646565",
   "metadata": {},
   "outputs": [],
   "source": [
    "speaker_names = {\n",
    "    \"SPEAKER_00\": \"FROM NEWS CLIP\",\n",
    "    \"SPEAKER_01\": \"FROM NEWS CLIP\",\n",
    "    \"SPEAKER_02\": \"Trey Jordan\",\n",
    "    \"SPEAKER_03\": \"Roman Mars\",\n",
    "    \"SPEAKER_04\": \"FROM NEWS CLIP\",\n",
    "    \"SPEAKER_05\": \"Roxanne Swentzell\",\n",
    "    \"SPEAKER_06\": \"Joseph Montoya\",\n",
    "    \"SPEAKER_07\": \"Delaney Hall\",\n",
    "    \"SPEAKER_08\": \"Lisa Gavioli Roach\",\n",
    "    \"SPEAKER_09\": \"Ray Herrera\",\n",
    "    \"SPEAKER_10\": \"Chris Wilson\",\n",
    "    \"SPEAKER_11\": \"FROM NEWS CLIP\",\n",
    "}\n",
    "real_speakers = set(speaker_names.values())"
   ]
  },
  {
   "cell_type": "markdown",
   "id": "8c71d99d-12f2-4812-8573-3cbbd23a68a0",
   "metadata": {},
   "source": [
    "When a speaker speaks for a long time, the model might chunk it to different segments. To show the whole conversation in a more meaningful way, let's combine segments of the same speaker, and display the conversation."
   ]
  },
  {
   "cell_type": "code",
   "execution_count": 13,
   "id": "58a7ce67",
   "metadata": {},
   "outputs": [
    {
     "name": "stdout",
     "output_type": "stream",
     "text": [
      "Roman Mars (0'0\"-0'20\"): This is 99% Invisible. I'm Roman Mars. Back in the early 2000s, an architect named Trey Jordan wrote a letter to Santa Fe, New Mexico's Historic Preservation Division, laying out the details of a house he was hoping to build in the city's historic district. The process started out pretty normal.\n",
      "\n",
      "Trey Jordan (0'20\"-0'28\"): We were just not ready for what happened. I mean, I don't remember the process being that thorny.\n",
      "\n",
      "Roman Mars (0'28\"-0'35\"): The first indication that things maybe wouldn't go smoothly had to do with the color of the stucco that Trey wanted to use.\n",
      "\n",
      "Trey Jordan (0'35\"-0'51\"): I do recall that in my proposal letter, I had mentioned that the stucco color would be a custom color similar to, I think it was cottonwood, which is its standard color of a commercially available stucco.\n",
      "\n",
      "Delaney Hall (0'51\"-0'59\"): Buildings in the Historic District have to follow a number of design guidelines so that they fit in with Santa Fe's traditional Adobe look.\n",
      "\n",
      "Roman Mars (0'59\"-1'0\"): Senior producer Delaney Hall.\n",
      "\n",
      "... (notebook writer's note: more content hidden) ...\n",
      "\n",
      "Roman Mars (41'47\"-43'29\"): 99% Invisible was produced this week by our senior producer Delaney Hall. Edited by Emmett Fitzgerald and Katie Mingle. Mixed by Bryson Barnes. Fact-checking by Francis Carr Jr. Music by Sean Real. Kurt Kolstad is the digital director. The rest of the team is Joe Rosenberg, Vivian Leigh, Christopher Johnson, Abby Madon, Chris Berube, Sophia Klatsker, and me, Roman Mars. Special thanks this week to Daniel Werwath, Rose Simpson, and the Archives of American Art at the Smithsonian Institution for the John Gall Meme Oral History Interview, which was conducted on December 3, 1964. Thanks also to Audra Belmore, the curator of the John Gall Meme Archives of Southwestern Architecture at UNM. Finally, special thanks to the Historic Division's partners in the study they conducted. They include New Mexico Health Equity Partnership, Historian and Preservation Planner John Murphy, Six Blooms, and Little Globe Inc. Little Globe has been conducting interviews with people in Santa Fe's Historic District and helped connect us with Ray Herrera. We are a project of 91.7 KALW in San Francisco and produced on Radio Row, which exists in various corners of North America, but in its heart will always be in beautiful downtown Oakland, California. We are a member of Radiotopia from PRX, a collective of the best, most innovative shows in all of podcasting. Discover, listen, and support them all at radiotopia.fm. You can find the show and join discussions about the show on Facebook. You can tweet me at Roman Mars and the show at 99pi.org. We're on Instagram and Reddit too. You like pictures of buildings made of mud? Well, I certainly do. And we got a bunch of them at 99pi.org.\n",
      "\n",
      "FROM NEWS CLIP (43'40\"-43'44\"): Radiotopia from PRX.\n",
      "\n"
     ]
    }
   ],
   "source": [
    "# Let's combine the entries.\n",
    "import copy\n",
    "\n",
    "def combine_same_speaker(result):\n",
    "    combined = [copy.copy(result[0])]\n",
    "    for r in result[1:]:\n",
    "        if r['speaker'] == combined[-1]['speaker']:\n",
    "            combined[-1]['end'] = r['end']\n",
    "            combined[-1]['text'] += \" \" + r['text'].strip()\n",
    "            combined[-1]['words'] += r['words']\n",
    "        else:\n",
    "            # Note: don't add r directly. Do a copy.\n",
    "            combined.append(copy.copy(r))\n",
    "    return combined\n",
    "\n",
    "combined = combine_same_speaker(result)\n",
    "for r in combined:\n",
    "    start = format_seconds(r['start'])\n",
    "    end = format_seconds(r['end'])\n",
    "    print(f\"{speaker_names[r['speaker']]} ({start}-{end}): {r['text'].strip()}\\n\")"
   ]
  },
  {
   "cell_type": "markdown",
   "id": "fa8c7f39-f207-45ab-bd19-458d9628ce51",
   "metadata": {},
   "source": [
    "Now, how do the interactions look like? Are the host and guests engaging in active conversations? One thing we can do is to print out a second-by-second conversation history, and visualize the whole 45-minute conversation as an image. Let's do that. If you are a python matplotlib fan, read the following code; otherwise, you can safely jump over and look at the generated image directly."
   ]
  },
  {
   "cell_type": "code",
   "execution_count": 22,
   "id": "b5e576b2",
   "metadata": {},
   "outputs": [
    {
     "data": {
      "image/png": "[encoded data removed]",
      "text/plain": [
       "<Figure size 800x400 with 2 Axes>"
      ]
     },
     "metadata": {},
     "output_type": "display_data"
    }
   ],
   "source": [
    "# Let's draw out the speaker map.\n",
    "# Create a grid layout with two columns\n",
    "from matplotlib import pyplot as plt\n",
    "from matplotlib import colormaps\n",
    "from matplotlib import gridspec\n",
    "import numpy as np\n",
    "import random\n",
    "\n",
    "def generate_colors(num_colors):\n",
    "    colormap = colormaps[\"Set3\"]\n",
    "    pastel_colors = [colormap(i) for i in range(num_colors)]\n",
    "    random.shuffle(pastel_colors)\n",
    "    return pastel_colors\n",
    "\n",
    "color_map = {\n",
    "    s:c[:3] for s, c in zip(real_speakers, generate_colors(len(real_speakers)))\n",
    "}\n",
    "\n",
    "\n",
    "\n",
    "total_time = int(combined[-1]['end'] // 60 + 1) * 60\n",
    "colored_timelapse = np.ones((total_time, 3))\n",
    "for r in result:\n",
    "    start = int(r['start'])\n",
    "    end = int(r['end'] + 0.5)\n",
    "    colored_timelapse[start:end] = color_map[speaker_names[r['speaker']]]\n",
    "    \n",
    "fig = plt.figure(figsize=(8, 4))\n",
    "gs = gridspec.GridSpec(1, 2, width_ratios=[3, 1])\n",
    "\n",
    "# Add the image to the left grid cell\n",
    "ax_image = plt.subplot(gs[0])\n",
    "ax_image.imshow(colored_timelapse.reshape((total_time//60, 60,3)))\n",
    "plt.xlabel(\"seconds\")\n",
    "plt.ylabel(\"minutes\")\n",
    "\n",
    "# Add the legend to the right grid cell\n",
    "legend_patches = [plt.Line2D([0], [0], marker='o', color='w', label=speaker, \n",
    "                             markersize=10, markerfacecolor=color)\n",
    "                  for speaker, color in sorted(color_map.items(), key=lambda x: x[0])]\n",
    "ax_legend = plt.subplot(gs[1])\n",
    "ax_legend.legend(handles=legend_patches, loc='upper left')\n",
    "ax_legend.axis('off')\n",
    "\n",
    "plt.tight_layout()\n",
    "\n",
    "# Display the figure\n",
    "plt.show()"
   ]
  },
  {
   "cell_type": "markdown",
   "id": "bf4ac95c",
   "metadata": {},
   "source": [
    "To read the above figure: every horizontal row represents 60 seconds of a minute, and there are 43 rows representing 43 minutes' time. Every color represents a speaker: for example, for the first minute, you see Roman Mars speaking for about 20 seconds, then Trey Jordan, then Roman, then Trey, and then Delaney Hall. White space shows pauses where no one speaks.\n",
    "\n",
    "A few observations from the color map:\n",
    "- Roman Mars opens and ends the conversation as the host.\n",
    "- Denaley Hall co-hosts the converation, and speaks most frequently - connecting the dots among guests.\n",
    "- Trey joins the first part of the conversation; Chris joins later; Joseph, Lisa and Ray engages the conversation between 15' and 30'. After the break around 29', Roxanne and Delaney had an in-depth discussion for about 10 minutes, before the conversation comes to conclusion.\n",
    "\n",
    "Overall the audiences had a very active engagement - lots of discussions, and also in-depth statements especially in the second half of the conversation.\n",
    "\n",
    "Back to our technical story - it used to be difficult to have custom AI models deployed easily, and data scientists need to spend a lot of time dealing with infra before interesting work like conversation analysis can begin. Lepton aims to change this.\n",
    "\n",
    "# Conclusion\n",
    "\n",
    "Speech recognition and speech diarization are common techniques in the speech field. Combining these AI algorithms with a bit of data science could give us interesting insights into our multimedia data. \n",
    "\n",
    "We want AI algorithms and applications to be customizable, highly efficient, and easy to use. Let us know what you think! Feel free to ping us at [info@lepton.ai](mailto:info@lepton.ai) any time."
   ]
  },
  {
   "cell_type": "code",
   "execution_count": null,
   "id": "dd0d8860",
   "metadata": {},
   "outputs": [],
   "source": [
    "# Let's close the service after done.\n",
    "!lep deployment remove -n whisperx\n"
   ]
  }
 ],
 "metadata": {
  "kernelspec": {
   "display_name": "Python 3 (ipykernel)",
   "language": "python",
   "name": "python3"
  },
  "language_info": {
   "codemirror_mode": {
    "name": "ipython",
    "version": 3
   },
   "file_extension": ".py",
   "mimetype": "text/x-python",
   "name": "python",
   "nbconvert_exporter": "python",
   "pygments_lexer": "ipython3",
   "version": "3.10.12"
  }
 },
 "nbformat": 4,
 "nbformat_minor": 5
}

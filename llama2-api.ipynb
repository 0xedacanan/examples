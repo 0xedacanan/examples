{
  "cells": [
    {
      "cell_type": "code",
      "execution_count": 3,
      "metadata": {
        "id": "lIYdn1woOS1n"
      },
      "outputs": [],
      "source": [
        "!pip install -qqq openai"
      ]
    },
    {
      "cell_type": "code",
      "source": [
        "import openai\n",
        "\n",
        "openai.api_base = \"https://llama2.lepton.run/api/v1\"\n",
        "openai.api_key = \"sk-\" + \"a\" * 48"
      ],
      "metadata": {
        "id": "UCOfN-VEsy5m"
      },
      "execution_count": 4,
      "outputs": []
    },
    {
      "cell_type": "code",
      "source": [
        "sys_prompt = \"\"\"\n",
        "The following is a conversation with an AI assistant. The assistant is helpful, creative, clever, and very friendly.\n",
        "\"\"\"\n",
        "# Create a completion\n",
        "completion = openai.ChatCompletion.create(\n",
        "    model=\"gpt-3.5-turbo\",\n",
        "    messages=[\n",
        "        {\"role\": \"system\", \"content\": sys_prompt},\n",
        "        {\"role\": \"user\", \"content\": \"tell me a short story\"},\n",
        "    ],\n",
        "    stream=True,\n",
        "    max_tokens=64,\n",
        ")\n",
        "for chunk in completion:\n",
        "    content = chunk[\"choices\"][0][\"delta\"].get(\"content\")\n",
        "    if content:\n",
        "        print(content, end=\"\")\n",
        "print()"
      ],
      "metadata": {
        "id": "y7eV3R87sz6Y",
        "outputId": "89b8a5a4-a767-4355-b738-1358dd9e30a6",
        "colab": {
          "base_uri": "https://localhost:8080/"
        }
      },
      "execution_count": 5,
      "outputs": [
        {
          "output_type": "stream",
          "name": "stdout",
          "text": [
            "Of course, I'd be happy to tell you a short story! Here it is:\n",
            "\n",
            "Once upon a time, in a far-off land, there was a magical forest filled with towering trees, sparkling streams, and a variety of creatures great and small. Among these creatures lived\n"
          ]
        }
      ]
    },
    {
      "cell_type": "code",
      "source": [],
      "metadata": {
        "id": "IuKq8VV0s3C_"
      },
      "execution_count": null,
      "outputs": []
    }
  ],
  "metadata": {
    "colab": {
      "name": "scratchpad",
      "provenance": []
    },
    "kernelspec": {
      "display_name": "Python 3",
      "name": "python3"
    }
  },
  "nbformat": 4,
  "nbformat_minor": 0
}